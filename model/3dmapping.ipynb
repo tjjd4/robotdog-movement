{
 "cells": [
  {
   "cell_type": "code",
   "id": "initial_id",
   "metadata": {
    "collapsed": true,
    "ExecuteTime": {
     "end_time": "2025-02-13T04:13:56.330591Z",
     "start_time": "2025-02-13T04:13:55.293780Z"
    }
   },
   "source": [
    "import numpy as np\n",
    "import open3d as o3d\n",
    "import math"
   ],
   "outputs": [],
   "execution_count": 1
  },
  {
   "metadata": {
    "ExecuteTime": {
     "end_time": "2025-02-13T04:13:56.931978Z",
     "start_time": "2025-02-13T04:13:56.929783Z"
    }
   },
   "cell_type": "code",
   "source": [
    "def polar_to_cartesian(angle, distance, height):\n",
    "    # Convert polar coordinates (angle in degrees, distance) to Cartesian (x, y, z)\n",
    "    angle_rad = np.radians(angle)\n",
    "    x = distance * np.cos(angle_rad)\n",
    "    y = distance * np.sin(angle_rad)\n",
    "    z = height  # Use height to create a 3D point\n",
    "    return x, y, z"
   ],
   "id": "a3a8c361fd4ca2b1",
   "outputs": [],
   "execution_count": 2
  },
  {
   "metadata": {
    "ExecuteTime": {
     "end_time": "2025-02-13T04:13:58.053619Z",
     "start_time": "2025-02-13T04:13:58.050531Z"
    }
   },
   "cell_type": "code",
   "source": [
    "def generate_point_cloud(lidar_data):\n",
    "    points = []\n",
    "    for angle, distance, height, quality in lidar_data:\n",
    "        if quality > 0 and distance > 0:  # Ignore invalid points\n",
    "            x, y, z = polar_to_cartesian(angle, distance, height)\n",
    "            points.append([x, y, z])\n",
    "    return np.array(points)"
   ],
   "id": "a60ecc25054742b5",
   "outputs": [],
   "execution_count": 3
  },
  {
   "metadata": {
    "ExecuteTime": {
     "end_time": "2025-02-13T04:13:59.457040Z",
     "start_time": "2025-02-13T04:13:59.454357Z"
    }
   },
   "cell_type": "code",
   "source": [
    "def create_coordinate_lines():\n",
    "    axes = o3d.geometry.TriangleMesh.create_coordinate_frame(size=0.3, origin=[0, 0, 0])\n",
    "    return axes"
   ],
   "id": "398d63c41487e6be",
   "outputs": [],
   "execution_count": 4
  },
  {
   "metadata": {
    "ExecuteTime": {
     "end_time": "2025-02-13T04:14:01.280589Z",
     "start_time": "2025-02-13T04:14:01.277760Z"
    }
   },
   "cell_type": "code",
   "source": [
    "def visualize_point_cloud(points):\n",
    "    point_cloud = o3d.geometry.PointCloud()\n",
    "    point_cloud.points = o3d.utility.Vector3dVector(points)\n",
    "    coordinate_lines = create_coordinate_lines()\n",
    "    o3d.visualization.draw_geometries([point_cloud, coordinate_lines])"
   ],
   "id": "ef92aa66d446fb60",
   "outputs": [],
   "execution_count": 5
  },
  {
   "metadata": {
    "jupyter": {
     "is_executing": true
    }
   },
   "cell_type": "code",
   "source": [
    "if __name__ == \"__main__\":\n",
    "    # Example LIDAR data: (angle, distance, height, quality)\n",
    "    lidar_data = [\n",
    "        (0, 1.0, 0.2, 15), (15, 1.2, 0.4, 12), (30, 1.5, 0.6, 10), (45, 1.8, 0.8, 14),\n",
    "        (60, 2.0, 1.0, 20), (75, 2.2, 1.2, 16), (90, 2.5, 1.4, 5), (105, 2.3, 1.6, 18),\n",
    "        (120, 2.0, 1.8, 15), (135, 1.7, 2.0, 10), (150, 1.5, 1.8, 10), (165, 1.2, 1.6, 17),\n",
    "        (180, 1.0, 1.4, 20), (195, 0.8, 1.2, 8), (210, 0.9, 1.0, 12), (225, 1.2, 0.8, 18),\n",
    "        (240, 1.4, 0.6, 18), (255, 1.6, 0.4, 12), (270, 1.8, 0.2, 12), (285, 2.0, 0.0, 14),\n",
    "        (300, 2.2, -0.2, 14), (315, 2.4, -0.4, 18), (330, 2.6, -0.6, 16), (345, 2.8, -0.8, 20)\n",
    "    ]\n",
    "\n",
    "    points = generate_point_cloud(lidar_data)\n",
    "    visualize_point_cloud(points)"
   ],
   "id": "c24316c4d1e173e2",
   "outputs": [],
   "execution_count": null
  }
 ],
 "metadata": {
  "kernelspec": {
   "display_name": "Python 3",
   "language": "python",
   "name": "python3"
  },
  "language_info": {
   "codemirror_mode": {
    "name": "ipython",
    "version": 2
   },
   "file_extension": ".py",
   "mimetype": "text/x-python",
   "name": "python",
   "nbconvert_exporter": "python",
   "pygments_lexer": "ipython2",
   "version": "2.7.6"
  }
 },
 "nbformat": 4,
 "nbformat_minor": 5
}
