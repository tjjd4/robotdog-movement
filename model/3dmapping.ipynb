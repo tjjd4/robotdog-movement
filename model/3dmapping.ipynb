{
 "cells": [
  {
   "cell_type": "code",
   "id": "initial_id",
   "metadata": {
    "collapsed": true,
    "ExecuteTime": {
     "end_time": "2025-02-13T20:12:58.813172Z",
     "start_time": "2025-02-13T20:12:58.808499Z"
    }
   },
   "source": [
    "import numpy as np\n",
    "import open3d as o3d\n",
    "import math"
   ],
   "outputs": [],
   "execution_count": 7
  },
  {
   "metadata": {
    "ExecuteTime": {
     "end_time": "2025-02-13T20:13:00.062014Z",
     "start_time": "2025-02-13T20:13:00.058950Z"
    }
   },
   "cell_type": "code",
   "source": [
    "def polar_to_cartesian_batch(lidar_data):\n",
    "    # Convert polar coordinates (angle in degrees, distance, height) to Cartesian (x, y, z) using vectorized operations\n",
    "    angles = np.radians(np.array([data[0] for data in lidar_data]))\n",
    "    distances = np.array([data[1] for data in lidar_data])\n",
    "    heights = np.array([data[2] for data in lidar_data])\n",
    "    qualities = np.array([data[3] for data in lidar_data])\n",
    "\n",
    "    valid_mask = (qualities > 0) & (distances > 0)  # Masking invalid points\n",
    "    x = distances[valid_mask] * np.cos(angles[valid_mask])\n",
    "    y = distances[valid_mask] * np.sin(angles[valid_mask])\n",
    "    z = heights[valid_mask]\n",
    "\n",
    "    return np.column_stack((x, y, z))"
   ],
   "id": "a3a8c361fd4ca2b1",
   "outputs": [],
   "execution_count": 8
  },
  {
   "metadata": {
    "ExecuteTime": {
     "end_time": "2025-02-13T20:13:01.528811Z",
     "start_time": "2025-02-13T20:13:01.526675Z"
    }
   },
   "cell_type": "code",
   "source": [
    "def create_coordinate_lines():\n",
    "    return o3d.geometry.TriangleMesh.create_coordinate_frame(size=3.0, origin=[0, 0, 0])"
   ],
   "id": "a60ecc25054742b5",
   "outputs": [],
   "execution_count": 9
  },
  {
   "metadata": {
    "ExecuteTime": {
     "end_time": "2025-02-13T20:13:02.684972Z",
     "start_time": "2025-02-13T20:13:02.682147Z"
    }
   },
   "cell_type": "code",
   "source": [
    "def visualize_point_cloud(points):\n",
    "    point_cloud = o3d.geometry.PointCloud()\n",
    "    point_cloud.points = o3d.utility.Vector3dVector(points)\n",
    "    coordinate_lines = create_coordinate_lines()\n",
    "    o3d.visualization.draw_geometries([point_cloud, coordinate_lines])"
   ],
   "id": "ef92aa66d446fb60",
   "outputs": [],
   "execution_count": 10
  },
  {
   "metadata": {
    "ExecuteTime": {
     "end_time": "2025-02-13T20:13:09.653054Z",
     "start_time": "2025-02-13T20:13:04.380560Z"
    }
   },
   "cell_type": "code",
   "source": [
    "if __name__ == \"__main__\":\n",
    "    # Example LIDAR data: (angle, distance, height, quality)\n",
    "    lidar_data = [\n",
    "        (0, 1.0, 0.2, 15), (15, 1.2, 0.4, 12), (30, 1.5, 0.6, 10), (45, 1.8, 0.8, 14),\n",
    "        (60, 2.0, 1.0, 20), (75, 2.2, 1.2, 16), (90, 2.5, 1.4, 5), (105, 2.3, 1.6, 18),\n",
    "        (120, 2.0, 1.8, 15), (135, 1.7, 2.0, 10), (150, 1.5, 1.8, 10), (165, 1.2, 1.6, 17),\n",
    "        (180, 1.0, 1.4, 20), (195, 0.8, 1.2, 8), (210, 0.9, 1.0, 12), (225, 1.2, 0.8, 18),\n",
    "        (240, 1.4, 0.6, 18), (255, 1.6, 0.4, 12), (270, 1.8, 0.2, 12), (285, 2.0, 0.0, 14),\n",
    "        (300, 2.2, -0.2, 14), (315, 2.4, -0.4, 18), (330, 2.6, -0.6, 16), (345, 2.8, -0.8, 20)\n",
    "    ]\n",
    "\n",
    "    points = polar_to_cartesian_batch(lidar_data)\n",
    "    visualize_point_cloud(points)"
   ],
   "id": "c24316c4d1e173e2",
   "outputs": [],
   "execution_count": 11
  }
 ],
 "metadata": {
  "kernelspec": {
   "display_name": "Python 3",
   "language": "python",
   "name": "python3"
  },
  "language_info": {
   "codemirror_mode": {
    "name": "ipython",
    "version": 2
   },
   "file_extension": ".py",
   "mimetype": "text/x-python",
   "name": "python",
   "nbconvert_exporter": "python",
   "pygments_lexer": "ipython2",
   "version": "2.7.6"
  }
 },
 "nbformat": 4,
 "nbformat_minor": 5
}
